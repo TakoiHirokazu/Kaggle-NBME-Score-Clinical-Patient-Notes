{
 "cells": [
  {
   "cell_type": "code",
   "execution_count": 1,
   "metadata": {
    "executionInfo": {
     "elapsed": 376,
     "status": "ok",
     "timestamp": 1648228983639,
     "user": {
      "displayName": "米川和仁",
      "photoUrl": "https://lh3.googleusercontent.com/a/default-user=s64",
      "userId": "04802509165152586358"
     },
     "user_tz": -540
    },
    "id": "ZnWTbj6Zz47-"
   },
   "outputs": [],
   "source": [
    "# ====================================================\n",
    "# Library\n",
    "# ====================================================\n",
    "import os\n",
    "import ast\n",
    "import warnings\n",
    "warnings.filterwarnings(\"ignore\")\n",
    "\n",
    "import pandas as pd\n",
    "pd.set_option('display.max_rows', 500)\n",
    "pd.set_option('display.max_columns', 500)\n",
    "pd.set_option('display.width', 1000)"
   ]
  },
  {
   "cell_type": "code",
   "execution_count": 2,
   "metadata": {
    "executionInfo": {
     "elapsed": 3,
     "status": "ok",
     "timestamp": 1648228983640,
     "user": {
      "displayName": "米川和仁",
      "photoUrl": "https://lh3.googleusercontent.com/a/default-user=s64",
      "userId": "04802509165152586358"
     },
     "user_tz": -540
    },
    "id": "w2eEeuIM0J0e"
   },
   "outputs": [],
   "source": [
    "INPUT_DIR = '../data/'"
   ]
  },
  {
   "cell_type": "code",
   "execution_count": 3,
   "metadata": {
    "colab": {
     "base_uri": "https://localhost:8080/",
     "height": 637
    },
    "executionInfo": {
     "elapsed": 905,
     "status": "ok",
     "timestamp": 1648228984542,
     "user": {
      "displayName": "米川和仁",
      "photoUrl": "https://lh3.googleusercontent.com/a/default-user=s64",
      "userId": "04802509165152586358"
     },
     "user_tz": -540
    },
    "id": "5Tf8SihN0Me1",
    "outputId": "cb22a696-06ac-4550-8127-eeb1bd5fcbf1"
   },
   "outputs": [
    {
     "name": "stdout",
     "output_type": "stream",
     "text": [
      "train.shape: (14300, 6)\n"
     ]
    },
    {
     "data": {
      "text/html": [
       "<div>\n",
       "<style scoped>\n",
       "    .dataframe tbody tr th:only-of-type {\n",
       "        vertical-align: middle;\n",
       "    }\n",
       "\n",
       "    .dataframe tbody tr th {\n",
       "        vertical-align: top;\n",
       "    }\n",
       "\n",
       "    .dataframe thead th {\n",
       "        text-align: right;\n",
       "    }\n",
       "</style>\n",
       "<table border=\"1\" class=\"dataframe\">\n",
       "  <thead>\n",
       "    <tr style=\"text-align: right;\">\n",
       "      <th></th>\n",
       "      <th>id</th>\n",
       "      <th>case_num</th>\n",
       "      <th>pn_num</th>\n",
       "      <th>feature_num</th>\n",
       "      <th>annotation</th>\n",
       "      <th>location</th>\n",
       "    </tr>\n",
       "  </thead>\n",
       "  <tbody>\n",
       "    <tr>\n",
       "      <th>0</th>\n",
       "      <td>00016_000</td>\n",
       "      <td>0</td>\n",
       "      <td>16</td>\n",
       "      <td>0</td>\n",
       "      <td>[dad with recent heart attcak]</td>\n",
       "      <td>[696 724]</td>\n",
       "    </tr>\n",
       "    <tr>\n",
       "      <th>1</th>\n",
       "      <td>00016_001</td>\n",
       "      <td>0</td>\n",
       "      <td>16</td>\n",
       "      <td>1</td>\n",
       "      <td>[mom with \"thyroid disease]</td>\n",
       "      <td>[668 693]</td>\n",
       "    </tr>\n",
       "    <tr>\n",
       "      <th>2</th>\n",
       "      <td>00016_002</td>\n",
       "      <td>0</td>\n",
       "      <td>16</td>\n",
       "      <td>2</td>\n",
       "      <td>[chest pressure]</td>\n",
       "      <td>[203 217]</td>\n",
       "    </tr>\n",
       "    <tr>\n",
       "      <th>3</th>\n",
       "      <td>00016_003</td>\n",
       "      <td>0</td>\n",
       "      <td>16</td>\n",
       "      <td>3</td>\n",
       "      <td>[intermittent episodes, episode]</td>\n",
       "      <td>[70 91, 176 183]</td>\n",
       "    </tr>\n",
       "    <tr>\n",
       "      <th>4</th>\n",
       "      <td>00016_004</td>\n",
       "      <td>0</td>\n",
       "      <td>16</td>\n",
       "      <td>4</td>\n",
       "      <td>[felt as if he were going to pass out]</td>\n",
       "      <td>[222 258]</td>\n",
       "    </tr>\n",
       "  </tbody>\n",
       "</table>\n",
       "</div>"
      ],
      "text/plain": [
       "          id  case_num  pn_num  feature_num                              annotation          location\n",
       "0  00016_000         0      16            0          [dad with recent heart attcak]         [696 724]\n",
       "1  00016_001         0      16            1             [mom with \"thyroid disease]         [668 693]\n",
       "2  00016_002         0      16            2                        [chest pressure]         [203 217]\n",
       "3  00016_003         0      16            3        [intermittent episodes, episode]  [70 91, 176 183]\n",
       "4  00016_004         0      16            4  [felt as if he were going to pass out]         [222 258]"
      ]
     },
     "metadata": {},
     "output_type": "display_data"
    },
    {
     "name": "stdout",
     "output_type": "stream",
     "text": [
      "features.shape: (143, 3)\n"
     ]
    },
    {
     "data": {
      "text/html": [
       "<div>\n",
       "<style scoped>\n",
       "    .dataframe tbody tr th:only-of-type {\n",
       "        vertical-align: middle;\n",
       "    }\n",
       "\n",
       "    .dataframe tbody tr th {\n",
       "        vertical-align: top;\n",
       "    }\n",
       "\n",
       "    .dataframe thead th {\n",
       "        text-align: right;\n",
       "    }\n",
       "</style>\n",
       "<table border=\"1\" class=\"dataframe\">\n",
       "  <thead>\n",
       "    <tr style=\"text-align: right;\">\n",
       "      <th></th>\n",
       "      <th>feature_num</th>\n",
       "      <th>case_num</th>\n",
       "      <th>feature_text</th>\n",
       "    </tr>\n",
       "  </thead>\n",
       "  <tbody>\n",
       "    <tr>\n",
       "      <th>0</th>\n",
       "      <td>0</td>\n",
       "      <td>0</td>\n",
       "      <td>Family-history-of-MI-OR-Family-history-of-myoc...</td>\n",
       "    </tr>\n",
       "    <tr>\n",
       "      <th>1</th>\n",
       "      <td>1</td>\n",
       "      <td>0</td>\n",
       "      <td>Family-history-of-thyroid-disorder</td>\n",
       "    </tr>\n",
       "    <tr>\n",
       "      <th>2</th>\n",
       "      <td>2</td>\n",
       "      <td>0</td>\n",
       "      <td>Chest-pressure</td>\n",
       "    </tr>\n",
       "    <tr>\n",
       "      <th>3</th>\n",
       "      <td>3</td>\n",
       "      <td>0</td>\n",
       "      <td>Intermittent-symptoms</td>\n",
       "    </tr>\n",
       "    <tr>\n",
       "      <th>4</th>\n",
       "      <td>4</td>\n",
       "      <td>0</td>\n",
       "      <td>Lightheaded</td>\n",
       "    </tr>\n",
       "  </tbody>\n",
       "</table>\n",
       "</div>"
      ],
      "text/plain": [
       "   feature_num  case_num                                       feature_text\n",
       "0            0         0  Family-history-of-MI-OR-Family-history-of-myoc...\n",
       "1            1         0                 Family-history-of-thyroid-disorder\n",
       "2            2         0                                     Chest-pressure\n",
       "3            3         0                              Intermittent-symptoms\n",
       "4            4         0                                        Lightheaded"
      ]
     },
     "metadata": {},
     "output_type": "display_data"
    },
    {
     "name": "stdout",
     "output_type": "stream",
     "text": [
      "patient_notes.shape: (42146, 3)\n"
     ]
    },
    {
     "data": {
      "text/html": [
       "<div>\n",
       "<style scoped>\n",
       "    .dataframe tbody tr th:only-of-type {\n",
       "        vertical-align: middle;\n",
       "    }\n",
       "\n",
       "    .dataframe tbody tr th {\n",
       "        vertical-align: top;\n",
       "    }\n",
       "\n",
       "    .dataframe thead th {\n",
       "        text-align: right;\n",
       "    }\n",
       "</style>\n",
       "<table border=\"1\" class=\"dataframe\">\n",
       "  <thead>\n",
       "    <tr style=\"text-align: right;\">\n",
       "      <th></th>\n",
       "      <th>pn_num</th>\n",
       "      <th>case_num</th>\n",
       "      <th>pn_history</th>\n",
       "    </tr>\n",
       "  </thead>\n",
       "  <tbody>\n",
       "    <tr>\n",
       "      <th>0</th>\n",
       "      <td>0</td>\n",
       "      <td>0</td>\n",
       "      <td>17-year-old male, has come to the student heal...</td>\n",
       "    </tr>\n",
       "    <tr>\n",
       "      <th>1</th>\n",
       "      <td>1</td>\n",
       "      <td>0</td>\n",
       "      <td>17 yo male with recurrent palpitations for the...</td>\n",
       "    </tr>\n",
       "    <tr>\n",
       "      <th>2</th>\n",
       "      <td>2</td>\n",
       "      <td>0</td>\n",
       "      <td>Dillon Cleveland is a 17 y.o. male patient wit...</td>\n",
       "    </tr>\n",
       "    <tr>\n",
       "      <th>3</th>\n",
       "      <td>3</td>\n",
       "      <td>0</td>\n",
       "      <td>a 17 yo m c/o palpitation started 3 mos ago; \\...</td>\n",
       "    </tr>\n",
       "    <tr>\n",
       "      <th>4</th>\n",
       "      <td>4</td>\n",
       "      <td>0</td>\n",
       "      <td>17yo male with no pmh here for evaluation of p...</td>\n",
       "    </tr>\n",
       "  </tbody>\n",
       "</table>\n",
       "</div>"
      ],
      "text/plain": [
       "   pn_num  case_num                                         pn_history\n",
       "0       0         0  17-year-old male, has come to the student heal...\n",
       "1       1         0  17 yo male with recurrent palpitations for the...\n",
       "2       2         0  Dillon Cleveland is a 17 y.o. male patient wit...\n",
       "3       3         0  a 17 yo m c/o palpitation started 3 mos ago; \\...\n",
       "4       4         0  17yo male with no pmh here for evaluation of p..."
      ]
     },
     "metadata": {},
     "output_type": "display_data"
    }
   ],
   "source": [
    "# ====================================================\n",
    "# Data Loading\n",
    "# ====================================================\n",
    "train = pd.read_csv(os.path.join(INPUT_DIR, 'train.csv'))\n",
    "train['annotation'] = train['annotation'].apply(ast.literal_eval)\n",
    "train['location'] = train['location'].apply(ast.literal_eval)\n",
    "features = pd.read_csv(os.path.join(INPUT_DIR, 'features.csv'))\n",
    "def preprocess_features(features):\n",
    "    features.loc[27, 'feature_text'] = \"Last-Pap-smear-1-year-ago\"\n",
    "    return features\n",
    "features = preprocess_features(features)\n",
    "patient_notes = pd.read_csv(os.path.join(INPUT_DIR, 'patient_notes.csv'))\n",
    "\n",
    "print(f\"train.shape: {train.shape}\")\n",
    "display(train.head())\n",
    "print(f\"features.shape: {features.shape}\")\n",
    "display(features.head())\n",
    "print(f\"patient_notes.shape: {patient_notes.shape}\")\n",
    "display(patient_notes.head())"
   ]
  },
  {
   "cell_type": "code",
   "execution_count": 4,
   "metadata": {
    "executionInfo": {
     "elapsed": 4,
     "status": "ok",
     "timestamp": 1648228984542,
     "user": {
      "displayName": "米川和仁",
      "photoUrl": "https://lh3.googleusercontent.com/a/default-user=s64",
      "userId": "04802509165152586358"
     },
     "user_tz": -540
    },
    "id": "9BFAm7hl5NL2"
   },
   "outputs": [],
   "source": [
    "pn_unique = patient_notes['pn_num'].unique()\n",
    "feature_unique = features['feature_num'].unique()"
   ]
  },
  {
   "cell_type": "code",
   "execution_count": 5,
   "metadata": {
    "executionInfo": {
     "elapsed": 364,
     "status": "ok",
     "timestamp": 1648228984902,
     "user": {
      "displayName": "米川和仁",
      "photoUrl": "https://lh3.googleusercontent.com/a/default-user=s64",
      "userId": "04802509165152586358"
     },
     "user_tz": -540
    },
    "id": "oTn2HaL20wTI"
   },
   "outputs": [],
   "source": [
    "pseudo_list = []\n",
    "for features_idx in feature_unique:\n",
    "    temp = patient_notes.copy()\n",
    "    temp['feature_num'] = features_idx\n",
    "    pseudo_list.append(temp)"
   ]
  },
  {
   "cell_type": "code",
   "execution_count": 6,
   "metadata": {
    "executionInfo": {
     "elapsed": 1,
     "status": "ok",
     "timestamp": 1648228984902,
     "user": {
      "displayName": "米川和仁",
      "photoUrl": "https://lh3.googleusercontent.com/a/default-user=s64",
      "userId": "04802509165152586358"
     },
     "user_tz": -540
    },
    "id": "oihDgIu467Nc"
   },
   "outputs": [],
   "source": [
    "pseudo_df = pd.concat(pseudo_list)"
   ]
  },
  {
   "cell_type": "code",
   "execution_count": 7,
   "metadata": {
    "executionInfo": {
     "elapsed": 971,
     "status": "ok",
     "timestamp": 1648228985872,
     "user": {
      "displayName": "米川和仁",
      "photoUrl": "https://lh3.googleusercontent.com/a/default-user=s64",
      "userId": "04802509165152586358"
     },
     "user_tz": -540
    },
    "id": "j5kUAzrz7YWL"
   },
   "outputs": [],
   "source": [
    "pseudo_df = pseudo_df.merge(features, on=['feature_num', 'case_num'], how='left')"
   ]
  },
  {
   "cell_type": "code",
   "execution_count": 8,
   "metadata": {
    "executionInfo": {
     "elapsed": 1812,
     "status": "ok",
     "timestamp": 1648228987683,
     "user": {
      "displayName": "米川和仁",
      "photoUrl": "https://lh3.googleusercontent.com/a/default-user=s64",
      "userId": "04802509165152586358"
     },
     "user_tz": -540
    },
    "id": "rzNLMxd67KqE"
   },
   "outputs": [],
   "source": [
    "pseudo_df = pseudo_df.dropna().reset_index(drop=True)"
   ]
  },
  {
   "cell_type": "code",
   "execution_count": 9,
   "metadata": {
    "executionInfo": {
     "elapsed": 1949,
     "status": "ok",
     "timestamp": 1648228989629,
     "user": {
      "displayName": "米川和仁",
      "photoUrl": "https://lh3.googleusercontent.com/a/default-user=s64",
      "userId": "04802509165152586358"
     },
     "user_tz": -540
    },
    "id": "HQ08TVkH8f4p"
   },
   "outputs": [],
   "source": [
    "pseudo_df['id'] = pseudo_df['pn_num'].map(lambda x:format(x, '0>5')) + '_' + pseudo_df['feature_num'].map(lambda x:format(x, '0>3'))"
   ]
  },
  {
   "cell_type": "code",
   "execution_count": 10,
   "metadata": {
    "executionInfo": {
     "elapsed": 364,
     "status": "ok",
     "timestamp": 1648228989990,
     "user": {
      "displayName": "米川和仁",
      "photoUrl": "https://lh3.googleusercontent.com/a/default-user=s64",
      "userId": "04802509165152586358"
     },
     "user_tz": -540
    },
    "id": "MdQdTxdw9WLA"
   },
   "outputs": [],
   "source": [
    "pseudo_df = pseudo_df[['id', 'case_num', 'pn_num', 'feature_num', 'feature_text', 'pn_history']].sort_values(by=['pn_num', 'feature_num', 'case_num']).reset_index(drop=True)"
   ]
  },
  {
   "cell_type": "code",
   "execution_count": 11,
   "metadata": {
    "executionInfo": {
     "elapsed": 2,
     "status": "ok",
     "timestamp": 1648228989990,
     "user": {
      "displayName": "米川和仁",
      "photoUrl": "https://lh3.googleusercontent.com/a/default-user=s64",
      "userId": "04802509165152586358"
     },
     "user_tz": -540
    },
    "id": "cZ_5BGBY-Myy"
   },
   "outputs": [],
   "source": [
    "train_ids = train['id'].tolist()\n",
    "pseudo_ids = pseudo_df['id'].tolist()"
   ]
  },
  {
   "cell_type": "code",
   "execution_count": 12,
   "metadata": {
    "executionInfo": {
     "elapsed": 340,
     "status": "ok",
     "timestamp": 1648228990328,
     "user": {
      "displayName": "米川和仁",
      "photoUrl": "https://lh3.googleusercontent.com/a/default-user=s64",
      "userId": "04802509165152586358"
     },
     "user_tz": -540
    },
    "id": "OqCzkUBuBtst"
   },
   "outputs": [],
   "source": [
    "pseudo_df = pseudo_df[~pseudo_df['id'].isin(train_ids)].reset_index(drop=True)"
   ]
  },
  {
   "cell_type": "code",
   "execution_count": 13,
   "metadata": {
    "executionInfo": {
     "elapsed": 2,
     "status": "ok",
     "timestamp": 1648228990329,
     "user": {
      "displayName": "米川和仁",
      "photoUrl": "https://lh3.googleusercontent.com/a/default-user=s64",
      "userId": "04802509165152586358"
     },
     "user_tz": -540
    },
    "id": "958g3zzkALk2"
   },
   "outputs": [],
   "source": [
    "pseudo_df['fold'] = -1"
   ]
  },
  {
   "cell_type": "code",
   "execution_count": 14,
   "metadata": {
    "executionInfo": {
     "elapsed": 926,
     "status": "ok",
     "timestamp": 1648228991253,
     "user": {
      "displayName": "米川和仁",
      "photoUrl": "https://lh3.googleusercontent.com/a/default-user=s64",
      "userId": "04802509165152586358"
     },
     "user_tz": -540
    },
    "id": "3ngGGe6PAt1D"
   },
   "outputs": [],
   "source": [
    "pseudo_df.to_pickle('../data/pseudo_plain.pkl')"
   ]
  },
  {
   "cell_type": "code",
   "execution_count": 15,
   "metadata": {
    "executionInfo": {
     "elapsed": 4,
     "status": "ok",
     "timestamp": 1648228991253,
     "user": {
      "displayName": "米川和仁",
      "photoUrl": "https://lh3.googleusercontent.com/a/default-user=s64",
      "userId": "04802509165152586358"
     },
     "user_tz": -540
    },
    "id": "gPuBDDFjBJmR"
   },
   "outputs": [
    {
     "data": {
      "text/html": [
       "<div>\n",
       "<style scoped>\n",
       "    .dataframe tbody tr th:only-of-type {\n",
       "        vertical-align: middle;\n",
       "    }\n",
       "\n",
       "    .dataframe tbody tr th {\n",
       "        vertical-align: top;\n",
       "    }\n",
       "\n",
       "    .dataframe thead th {\n",
       "        text-align: right;\n",
       "    }\n",
       "</style>\n",
       "<table border=\"1\" class=\"dataframe\">\n",
       "  <thead>\n",
       "    <tr style=\"text-align: right;\">\n",
       "      <th></th>\n",
       "      <th>id</th>\n",
       "      <th>case_num</th>\n",
       "      <th>pn_num</th>\n",
       "      <th>feature_num</th>\n",
       "      <th>feature_text</th>\n",
       "      <th>pn_history</th>\n",
       "      <th>fold</th>\n",
       "    </tr>\n",
       "  </thead>\n",
       "  <tbody>\n",
       "    <tr>\n",
       "      <th>0</th>\n",
       "      <td>00000_000</td>\n",
       "      <td>0</td>\n",
       "      <td>0</td>\n",
       "      <td>0</td>\n",
       "      <td>Family-history-of-MI-OR-Family-history-of-myoc...</td>\n",
       "      <td>17-year-old male, has come to the student heal...</td>\n",
       "      <td>-1</td>\n",
       "    </tr>\n",
       "    <tr>\n",
       "      <th>1</th>\n",
       "      <td>00000_001</td>\n",
       "      <td>0</td>\n",
       "      <td>0</td>\n",
       "      <td>1</td>\n",
       "      <td>Family-history-of-thyroid-disorder</td>\n",
       "      <td>17-year-old male, has come to the student heal...</td>\n",
       "      <td>-1</td>\n",
       "    </tr>\n",
       "    <tr>\n",
       "      <th>2</th>\n",
       "      <td>00000_002</td>\n",
       "      <td>0</td>\n",
       "      <td>0</td>\n",
       "      <td>2</td>\n",
       "      <td>Chest-pressure</td>\n",
       "      <td>17-year-old male, has come to the student heal...</td>\n",
       "      <td>-1</td>\n",
       "    </tr>\n",
       "    <tr>\n",
       "      <th>3</th>\n",
       "      <td>00000_003</td>\n",
       "      <td>0</td>\n",
       "      <td>0</td>\n",
       "      <td>3</td>\n",
       "      <td>Intermittent-symptoms</td>\n",
       "      <td>17-year-old male, has come to the student heal...</td>\n",
       "      <td>-1</td>\n",
       "    </tr>\n",
       "    <tr>\n",
       "      <th>4</th>\n",
       "      <td>00000_004</td>\n",
       "      <td>0</td>\n",
       "      <td>0</td>\n",
       "      <td>4</td>\n",
       "      <td>Lightheaded</td>\n",
       "      <td>17-year-old male, has come to the student heal...</td>\n",
       "      <td>-1</td>\n",
       "    </tr>\n",
       "    <tr>\n",
       "      <th>...</th>\n",
       "      <td>...</td>\n",
       "      <td>...</td>\n",
       "      <td>...</td>\n",
       "      <td>...</td>\n",
       "      <td>...</td>\n",
       "      <td>...</td>\n",
       "      <td>...</td>\n",
       "    </tr>\n",
       "    <tr>\n",
       "      <th>612597</th>\n",
       "      <td>95334_912</td>\n",
       "      <td>9</td>\n",
       "      <td>95334</td>\n",
       "      <td>912</td>\n",
       "      <td>Family-history-of-migraines</td>\n",
       "      <td>patient is a 20 yo F who presents with a heada...</td>\n",
       "      <td>-1</td>\n",
       "    </tr>\n",
       "    <tr>\n",
       "      <th>612598</th>\n",
       "      <td>95334_913</td>\n",
       "      <td>9</td>\n",
       "      <td>95334</td>\n",
       "      <td>913</td>\n",
       "      <td>Female</td>\n",
       "      <td>patient is a 20 yo F who presents with a heada...</td>\n",
       "      <td>-1</td>\n",
       "    </tr>\n",
       "    <tr>\n",
       "      <th>612599</th>\n",
       "      <td>95334_914</td>\n",
       "      <td>9</td>\n",
       "      <td>95334</td>\n",
       "      <td>914</td>\n",
       "      <td>Photophobia</td>\n",
       "      <td>patient is a 20 yo F who presents with a heada...</td>\n",
       "      <td>-1</td>\n",
       "    </tr>\n",
       "    <tr>\n",
       "      <th>612600</th>\n",
       "      <td>95334_915</td>\n",
       "      <td>9</td>\n",
       "      <td>95334</td>\n",
       "      <td>915</td>\n",
       "      <td>No-known-illness-contacts</td>\n",
       "      <td>patient is a 20 yo F who presents with a heada...</td>\n",
       "      <td>-1</td>\n",
       "    </tr>\n",
       "    <tr>\n",
       "      <th>612601</th>\n",
       "      <td>95334_916</td>\n",
       "      <td>9</td>\n",
       "      <td>95334</td>\n",
       "      <td>916</td>\n",
       "      <td>Subjective-fever</td>\n",
       "      <td>patient is a 20 yo F who presents with a heada...</td>\n",
       "      <td>-1</td>\n",
       "    </tr>\n",
       "  </tbody>\n",
       "</table>\n",
       "<p>612602 rows × 7 columns</p>\n",
       "</div>"
      ],
      "text/plain": [
       "               id  case_num  pn_num  feature_num                                       feature_text                                         pn_history  fold\n",
       "0       00000_000         0       0            0  Family-history-of-MI-OR-Family-history-of-myoc...  17-year-old male, has come to the student heal...    -1\n",
       "1       00000_001         0       0            1                 Family-history-of-thyroid-disorder  17-year-old male, has come to the student heal...    -1\n",
       "2       00000_002         0       0            2                                     Chest-pressure  17-year-old male, has come to the student heal...    -1\n",
       "3       00000_003         0       0            3                              Intermittent-symptoms  17-year-old male, has come to the student heal...    -1\n",
       "4       00000_004         0       0            4                                        Lightheaded  17-year-old male, has come to the student heal...    -1\n",
       "...           ...       ...     ...          ...                                                ...                                                ...   ...\n",
       "612597  95334_912         9   95334          912                        Family-history-of-migraines  patient is a 20 yo F who presents with a heada...    -1\n",
       "612598  95334_913         9   95334          913                                             Female  patient is a 20 yo F who presents with a heada...    -1\n",
       "612599  95334_914         9   95334          914                                        Photophobia  patient is a 20 yo F who presents with a heada...    -1\n",
       "612600  95334_915         9   95334          915                          No-known-illness-contacts  patient is a 20 yo F who presents with a heada...    -1\n",
       "612601  95334_916         9   95334          916                                   Subjective-fever  patient is a 20 yo F who presents with a heada...    -1\n",
       "\n",
       "[612602 rows x 7 columns]"
      ]
     },
     "execution_count": 15,
     "metadata": {},
     "output_type": "execute_result"
    }
   ],
   "source": [
    "pseudo_df"
   ]
  },
  {
   "cell_type": "code",
   "execution_count": null,
   "metadata": {},
   "outputs": [],
   "source": []
  }
 ],
 "metadata": {
  "colab": {
   "authorship_tag": "ABX9TyO8LbRqMpGesRpZEJ84Jo84",
   "collapsed_sections": [],
   "mount_file_id": "1Ndv1N0t1fD4GhIkvsdSh1feQbB6ut2dP",
   "name": "make_pseudo_dataset.ipynb",
   "provenance": []
  },
  "kernelspec": {
   "display_name": "Python 3 (ipykernel)",
   "language": "python",
   "name": "python3"
  },
  "language_info": {
   "codemirror_mode": {
    "name": "ipython",
    "version": 3
   },
   "file_extension": ".py",
   "mimetype": "text/x-python",
   "name": "python",
   "nbconvert_exporter": "python",
   "pygments_lexer": "ipython3",
   "version": "3.7.10"
  }
 },
 "nbformat": 4,
 "nbformat_minor": 4
}
